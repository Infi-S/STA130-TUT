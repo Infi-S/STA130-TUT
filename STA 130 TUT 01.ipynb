{
 "cells": [
  {
   "cell_type": "code",
   "execution_count": 1,
   "id": "0b722360",
   "metadata": {},
   "outputs": [
    {
     "data": {
      "text/plain": [
       "2"
      ]
     },
     "execution_count": 1,
     "metadata": {},
     "output_type": "execute_result"
    }
   ],
   "source": [
    "1+1"
   ]
  },
  {
   "cell_type": "code",
   "execution_count": 2,
   "id": "7d64ff77",
   "metadata": {},
   "outputs": [
    {
     "name": "stdout",
     "output_type": "stream",
     "text": [
      "Hello World\n"
     ]
    }
   ],
   "source": [
    "print(\"Hello World\")"
   ]
  },
  {
   "cell_type": "markdown",
   "id": "ee6c887d",
   "metadata": {},
   "source": [
    "# H1\n",
    "## H2\n",
    "### H3"
   ]
  },
  {
   "cell_type": "code",
   "execution_count": 3,
   "id": "ef174e36",
   "metadata": {},
   "outputs": [
    {
     "data": {
      "text/html": [
       "<div>\n",
       "<style scoped>\n",
       "    .dataframe tbody tr th:only-of-type {\n",
       "        vertical-align: middle;\n",
       "    }\n",
       "\n",
       "    .dataframe tbody tr th {\n",
       "        vertical-align: top;\n",
       "    }\n",
       "\n",
       "    .dataframe thead th {\n",
       "        text-align: right;\n",
       "    }\n",
       "</style>\n",
       "<table border=\"1\" class=\"dataframe\">\n",
       "  <thead>\n",
       "    <tr style=\"text-align: right;\">\n",
       "      <th></th>\n",
       "      <th>2B</th>\n",
       "      <th>410</th>\n",
       "      <th>AER</th>\n",
       "      <th>2965</th>\n",
       "      <th>KZN</th>\n",
       "      <th>2990</th>\n",
       "      <th>Unnamed: 6</th>\n",
       "      <th>0</th>\n",
       "      <th>CR2</th>\n",
       "    </tr>\n",
       "  </thead>\n",
       "  <tbody>\n",
       "    <tr>\n",
       "      <th>0</th>\n",
       "      <td>2B</td>\n",
       "      <td>410</td>\n",
       "      <td>ASF</td>\n",
       "      <td>2966</td>\n",
       "      <td>KZN</td>\n",
       "      <td>2990</td>\n",
       "      <td>NaN</td>\n",
       "      <td>0</td>\n",
       "      <td>CR2</td>\n",
       "    </tr>\n",
       "    <tr>\n",
       "      <th>1</th>\n",
       "      <td>2B</td>\n",
       "      <td>410</td>\n",
       "      <td>ASF</td>\n",
       "      <td>2966</td>\n",
       "      <td>MRV</td>\n",
       "      <td>2962</td>\n",
       "      <td>NaN</td>\n",
       "      <td>0</td>\n",
       "      <td>CR2</td>\n",
       "    </tr>\n",
       "    <tr>\n",
       "      <th>2</th>\n",
       "      <td>2B</td>\n",
       "      <td>410</td>\n",
       "      <td>CEK</td>\n",
       "      <td>2968</td>\n",
       "      <td>KZN</td>\n",
       "      <td>2990</td>\n",
       "      <td>NaN</td>\n",
       "      <td>0</td>\n",
       "      <td>CR2</td>\n",
       "    </tr>\n",
       "    <tr>\n",
       "      <th>3</th>\n",
       "      <td>2B</td>\n",
       "      <td>410</td>\n",
       "      <td>CEK</td>\n",
       "      <td>2968</td>\n",
       "      <td>OVB</td>\n",
       "      <td>4078</td>\n",
       "      <td>NaN</td>\n",
       "      <td>0</td>\n",
       "      <td>CR2</td>\n",
       "    </tr>\n",
       "    <tr>\n",
       "      <th>4</th>\n",
       "      <td>2B</td>\n",
       "      <td>410</td>\n",
       "      <td>DME</td>\n",
       "      <td>4029</td>\n",
       "      <td>KZN</td>\n",
       "      <td>2990</td>\n",
       "      <td>NaN</td>\n",
       "      <td>0</td>\n",
       "      <td>CR2</td>\n",
       "    </tr>\n",
       "  </tbody>\n",
       "</table>\n",
       "</div>"
      ],
      "text/plain": [
       "   2B  410  AER  2965  KZN  2990 Unnamed: 6  0  CR2\n",
       "0  2B  410  ASF  2966  KZN  2990        NaN  0  CR2\n",
       "1  2B  410  ASF  2966  MRV  2962        NaN  0  CR2\n",
       "2  2B  410  CEK  2968  KZN  2990        NaN  0  CR2\n",
       "3  2B  410  CEK  2968  OVB  4078        NaN  0  CR2\n",
       "4  2B  410  DME  4029  KZN  2990        NaN  0  CR2"
      ]
     },
     "execution_count": 3,
     "metadata": {},
     "output_type": "execute_result"
    }
   ],
   "source": [
    "import pandas as pd\n",
    "\n",
    "# Direct link to the CSV file\n",
    "url = 'https://raw.githubusercontent.com/jpatokal/openflights/master/data/routes.dat'\n",
    "\n",
    "# Load the dataset into a pandas DataFrame\n",
    "flight_data = pd.read_csv(url)\n",
    "\n",
    "# Display the first few rows\n",
    "flight_data.head()"
   ]
  },
  {
   "cell_type": "markdown",
   "id": "9f7e8c90",
   "metadata": {},
   "source": [
    "Sure! Here’s a summary of our interaction:\n",
    "\n",
    "https://chatgpt.com/share/3a41449c-4f49-4f3f-835e-df577d643850\n",
    "\n",
    "---\n",
    "\n",
    "**Summary of Interaction**\n",
    "\n",
    "**Objective:**\n",
    "User requested assistance with loading and processing flight information datasets, including handling missing values.\n",
    "\n",
    "**Details:**\n",
    "\n",
    "1. **Dataset Handling:**\n",
    "   - **Initial Request:** User wanted a script to load flight information that includes missing values into a notebook.\n",
    "   - **Provided Script:** A Python script using pandas was provided to:\n",
    "     - Load flight data from a CSV file.\n",
    "     - Display basic information and summary statistics.\n",
    "     - Handle missing values by either dropping rows or filling them with mean values.\n",
    "     - Save the cleaned datasets to new CSV files.\n",
    "\n",
    "2. **Use of Online Dataset:**\n",
    "   - **Updated Request:** User specified the use of an online dataset from the provided URL: `'https://raw.githubusercontent.com/jpatokal/openflights/master/data/routes.dat'`.\n",
    "   - **Modified Script:** An updated script was provided to:\n",
    "     - Load the dataset directly from the URL.\n",
    "     - Adjust columns and names to match the dataset’s structure.\n",
    "     - Handle missing values by either dropping rows or filling them with 'Unknown' for non-numeric columns.\n",
    "     - Save the processed datasets to new CSV files.\n",
    "\n",
    "**Additional Notes:**\n",
    "- The provided scripts use the pandas library for data manipulation and require adjustment based on specific dataset structures and handling preferences.\n",
    "\n",
    "---\n",
    "\n",
    "Feel free to adjust or expand this summary based on any additional requirements or details you need to include!"
   ]
  },
  {
   "cell_type": "code",
   "execution_count": 4,
   "id": "8f16031e",
   "metadata": {},
   "outputs": [
    {
     "name": "stdout",
     "output_type": "stream",
     "text": [
      "2B                0\n",
      "410               0\n",
      "AER               0\n",
      "2965              0\n",
      "KZN               0\n",
      "2990              0\n",
      "Unnamed: 6    53065\n",
      "0                 0\n",
      "CR2              18\n",
      "dtype: int64\n",
      "Total missing values: 53083\n"
     ]
    }
   ],
   "source": [
    "# Check for missing values\n",
    "missing_data = flight_data.isnull().sum()\n",
    "\n",
    "# Display missing data summary\n",
    "print(missing_data)\n",
    "\n",
    "# Optionally, check the total number of missing values\n",
    "total_missing = flight_data.isnull().sum().sum()\n",
    "print(f'Total missing values: {total_missing}')"
   ]
  }
 ],
 "metadata": {
  "kernelspec": {
   "display_name": "Python 3 (ipykernel)",
   "language": "python",
   "name": "python3"
  },
  "language_info": {
   "codemirror_mode": {
    "name": "ipython",
    "version": 3
   },
   "file_extension": ".py",
   "mimetype": "text/x-python",
   "name": "python",
   "nbconvert_exporter": "python",
   "pygments_lexer": "ipython3",
   "version": "3.11.6"
  }
 },
 "nbformat": 4,
 "nbformat_minor": 5
}
