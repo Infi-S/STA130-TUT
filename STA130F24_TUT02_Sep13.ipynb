{
 "cells": [
  {
   "cell_type": "markdown",
   "id": "14b74968",
   "metadata": {},
   "source": [
    "## STA130 TUT 02 (Sep13)<br><br> 👨‍💻 👩🏻‍💻 <u>Coding with data types, for loops, and logical control<u>\n"
   ]
  },
  {
   "cell_type": "markdown",
   "id": "9047160dfd885818",
   "metadata": {},
   "source": [
    "\n",
    "### ♻️ 📚 Review / Questions [10 minutes]\n",
    "1. Follow up questions and clarifications regarding regarding **notebooks, markdown, ChatBots, or `Python` code** previously introduced in the Sep06 TUT and Sep09 LEC \n",
    "\n",
    "> 1. We're continuing to dive into using **notebooks, markdown**, and `Python` as a tool: building comfort and capability working with **ChatBots** to leverage `Python` code is the objective of the current phase of the course...<br><br>\n",
    ">\n",
    "> 2. *Questions about [HW01](https://github.com/pointOfive/stat130chat130/blob/main/HW/STA130F24_HW01_DueSep12.ipynb) which was due yesterday (Thursday Sep12) should be asked in OH from 4-6PM ET Tuesday, Wednesday, and Thursday (see the [Quercus course homepage](https://q.utoronto.ca/courses/354091) for further details)*<br><br>\n",
    "> \n",
    "> 3. *And same story, and even moreso for questions about [HW02](https://github.com/pointOfive/stat130chat130/blob/main/HW/STA130F24_HW02_DueSep19.ipynb) which was due next Thursday (Sep19) (e.g., regarding the \"pre-lecture\" questions...)*"
   ]
  },
  {
   "cell_type": "markdown",
   "id": "7b6f2d524b9e6c7e",
   "metadata": {},
   "source": [
    "### 🚧 🏗️ Demo (using Jupyter Notebook and ChatBots) [50 minutes]\n",
    "\n",
    "\n",
    "#### 1. **[35 of the 50 minutes]** Demonstrate (using a ChatBot to show and explain?) some traditional `python` coding structures\n",
    "\n",
    "1. `tuple()`, `list()`, vs `dict()  # immutable and mutable \"lists\" vs key-value pairs`<br><br>\n",
    "    \n",
    "2. some `NumPy` functions:<br><br>\n",
    "    \n",
    "    1. `import numpy as np`\n",
    "    2. `np.array([1,2,3]) # a faster \"list\"`\n",
    "    3. `np.random.choice([1,2,3])`<br><br>\n",
    "        \n",
    "3. `for i in range(n):`, `for x in a_list:`, `for i,x in enumerate(a_list):`, and `print()`<br><br>\n",
    "    \n",
    "    1. `variable` as the last line of a \"code cell\" in a notebook \"prints\" the value\n",
    "    2. but `print()` is needed inside `for` loop if you want to output something<br><br>\n",
    "        \n",
    "4. `if`/`else` conditional statements<br><br> \n",
    "\n",
    "    1. perhaps with `x in b_list`<br>or `i % 2 == 0` to treat evens/odds differently  (sort of like the infamous \"FizzBuzz\" problem that some people [can't complete](https://www.quora.com/On-average-what-is-the-proportion-of-applicants-that-cannot-pass-a-simple-FizzBuzz-test-based-on-your-personal-experience-or-on-facts) as part of a coding interview challenge)\n",
    "    2. note the \"similarity\" to the `try-except` block structure when that's encountered in the code below since it's used there (despite being a \"more advanced\" \n",
    "        \n",
    "#### 2. **[5 of the 50 minutes]** Reintroduce the [Monty Hall problem](https://github.com/pointOfive/stat130chat130/blob/main/CHATLOG/wk2/GPT/SLS/00001_gpt3p5_MonteHall_ProblemExplanation_v1.md) and see which of the coding structures above you recognize (or do not see) in the Monty Hall simulation code below\n",
    "\n",
    "#### 3. **[10 of the 50 minutes]** Use any remaining time to start a demonstration of using a ChatBot to (a) understand what the code below is doing and (b) suggest an improved streamlined version of the `for` loop simulation code that might be easier to explain and understand\n",
    "    \n",
    "> ChatGPT version 3.5 [was very effective](https://github.com/pointOfive/stat130chat130/blob/main/CHATLOG/wk2/GPT/SLS/00003_gpt3p5_MonteHall_CodeDiscussion_v1.md) for (b), while Copilot was shockingly bad on a [first try](../CHATLOG/wk2/COP/SLS/00001_creative_MonteHall_CodeDiscussion_v1.md) but was able to do better [with some helpful guidance](https://github.com/pointOfive/stat130chat130/blob/main/CHATLOG/wk2/COP/SLS/00002_concise_MonteHall_CodeDiscussion_v2.md)."
   ]
  },
  {
   "cell_type": "code",
   "execution_count": null,
   "id": "20e8c519ed45cbfb",
   "metadata": {},
   "outputs": [],
   "source": [
    "# Cell to demo what the above code does\n"
   ]
  },
  {
   "cell_type": "code",
   "execution_count": 1,
   "id": "ae1b0a3f",
   "metadata": {},
   "outputs": [
    {
     "name": "stdout",
     "output_type": "stream",
     "text": [
      "1\n",
      "apple\n"
     ]
    }
   ],
   "source": [
    "# Example of a tuple\n",
    "my_tuple = (1, 2, 3, 'apple', 5.0)\n",
    "\n",
    "# Accessing elements\n",
    "print(my_tuple[0])  # Output: 1\n",
    "print(my_tuple[3])  # Output: 'apple'\n",
    "\n",
    "# Tuple with one element\n",
    "single_element_tuple = (1,)\n",
    "\n",
    "# Unpacking a tuple\n",
    "a, b, c = (1, 2, 3)\n",
    "print(a)  # Output: 1\n",
    "print(b)  # Output: 2"
   ]
  },
  {
   "cell_type": "code",
   "execution_count": 2,
   "id": "e84fb363",
   "metadata": {},
   "outputs": [
    {
     "name": "stdout",
     "output_type": "stream",
     "text": [
      "Error: 'tuple' object does not support item assignment\n"
     ]
    }
   ],
   "source": [
    "# Creating a tuple\n",
    "my_tuple = (10, 20, 30)\n",
    "\n",
    "# Attempting to mutate the tuple inside a try block\n",
    "try:\n",
    "    my_tuple[0] = 100  # This will raise an error\n",
    "except TypeError as e:\n",
    "    print(f\"Error: {e}\")\n"
   ]
  },
  {
   "cell_type": "code",
   "execution_count": 16,
   "id": "b6223c1c",
   "metadata": {},
   "outputs": [
    {
     "name": "stdout",
     "output_type": "stream",
     "text": [
      "[1, 2, 3, 'apple', 5.0]\n",
      "1\n",
      "apple\n",
      "[1, 2, 3]\n",
      "[1, 20, 3, 'apple', 5.0]\n",
      "[1, 20, 3, 'apple', 5.0, 6]\n",
      "[1, 'new', 20, 3, 'apple', 5.0, 6]\n",
      "[1, 'new', 3, 'apple', 5.0, 6]\n",
      "6\n",
      "[1, 'new', 3, 'apple', 5.0]\n",
      "['new', 3, 'apple']\n",
      "Did not find 'banana' in the list\n",
      "5\n",
      "[1, 'new', 3, 'apple', 5.0, 7, 8, 9]\n",
      "8\n",
      "[1, 2, 4, 9]\n",
      "[9, 4, 2, 1]\n",
      "1\n",
      "9\n",
      "8\n"
     ]
    }
   ],
   "source": [
    "# Creating a list\n",
    "my_list = [1, 2, 3, 'apple', 5.0]\n",
    "\n",
    "# Accessing elements\n",
    "print(my_list)  # Output: [1, 2, 3, 'apple', 5.0]\n",
    "print(my_list[0])  # Output: 1\n",
    "print(my_list[3])  # Output: 'apple'\n",
    "\n",
    "# List with different data types\n",
    "mixed_list = [100, 'text', 3.14, [1, 2, 3]]\n",
    "print(mixed_list[3])\n",
    "\n",
    "my_list[1] = 20\n",
    "print(my_list)  # Output: [1, 20, 3, 'apple', 5.0]\n",
    "\n",
    "my_list.append(6)\n",
    "print(my_list)  # Output: [1, 20, 3, 'apple', 5.0, 6]\n",
    "\n",
    "my_list.insert(1, 'new')\n",
    "print(my_list)  # Output: [1, 'new', 20, 3, 'apple', 5.0, 6]\n",
    "\n",
    "my_list.remove(20)\n",
    "print(my_list)  # Output: [1, 'new', 3, 'apple', 5.0, 6]\n",
    "\n",
    "last_item = my_list.pop()\n",
    "print(last_item)  # Output: 6\n",
    "print(my_list)    # Output: [1, 'new', 3, 'apple', 5.0]\n",
    "\n",
    "sublist = my_list[1:4]\n",
    "print(sublist)  # Output: ['new', 3, 'apple']\n",
    "\n",
    "if 'banana' in my_list:\n",
    "    print(\"Found 'banana' in the list\")\n",
    "else:\n",
    "    print(\"Did not find 'banana' in the list\")\n",
    "\n",
    "    \n",
    "print(len(my_list))  # Output: 5\n",
    "my_list.extend([7, 8, 9])\n",
    "print(my_list)  # Output: [1, 'new', 3, 'apple', 5.0, 7, 8, 9]\n",
    "print(len(my_list)) # Output: 8\n",
    "\n",
    "numbers = [4, 2, 9, 1]\n",
    "numbers.sort()\n",
    "print(numbers)  # Output: [1, 2, 4, 9]\n",
    "\n",
    "numbers.reverse()\n",
    "print(numbers)  # Output: [9, 4, 2, 1]\n",
    "\n",
    "# Accessing elements with positive and negative indexing\n",
    "print(my_list[0])   #   (first element)\n",
    "print(my_list[-1])  #   (last element)\n",
    "print(my_list[-2])  #   (second-to-last element)\n",
    "\n"
   ]
  },
  {
   "cell_type": "code",
   "execution_count": 28,
   "id": "01e692e8",
   "metadata": {},
   "outputs": [
    {
     "name": "stdout",
     "output_type": "stream",
     "text": [
      "John\n",
      "30\n",
      "{'name': 'John', 'age': 31, 'job': 'Developer'}\n",
      "{'name': 'John', 'age': 31, 'job': 'Developer', 'city': 'New York'}\n",
      "{'name': 'John', 'age': 31, 'city': 'New York'}\n",
      "dict_keys(['name', 'age', 'city'])\n",
      "dict_values(['John', 31, 'New York'])\n",
      "dict_items([('name', 'John'), ('age', 31), ('city', 'New York')])\n",
      "None\n",
      "{'name': 'John', 'age': 32, 'city': 'New York', 'job': 'Designer'}\n",
      "Jane\n"
     ]
    }
   ],
   "source": [
    "# Creating a dictionary\n",
    "my_dict = {\n",
    "    'name': 'John',\n",
    "    'age': 30,\n",
    "    'job': 'Developer'\n",
    "}\n",
    "\n",
    "# Accessing values\n",
    "print(my_dict['name'])  # Output: John\n",
    "print(my_dict['age'])   # Output: 30\n",
    "\n",
    "my_dict['age'] = 31\n",
    "print(my_dict)  # Output: {'name': 'John', 'age': 31, 'job': 'Developer'}\n",
    "\n",
    "my_dict['city'] = 'New York'\n",
    "print(my_dict)  # Output: {'name': 'John', 'age': 31, 'job': 'Developer', 'city': 'New York'}\n",
    "\n",
    "del my_dict['job']\n",
    "print(my_dict)  # Output: {'name': 'John', 'age': 31, 'city': 'New York'}\n",
    "\n",
    "print(my_dict.keys())  # Output: dict_keys(['name', 'age'])\n",
    "\n",
    "print(my_dict.values())  # Output: dict_values(['John', 31])\n",
    "\n",
    "print(my_dict.items())  # Output: dict_items([('name', 'John'), ('age', 31)])\n",
    "\n",
    "print(my_dict.get('salary')) # Output: None (no KeyError)\n",
    "\n",
    "my_dict.update({'job': 'Designer', 'age': 32})\n",
    "print(my_dict)  # Output: {'name': 'John', 'age': 32, 'job': 'Designer'}\n",
    "\n",
    "nested_dict = {\n",
    "    'user1': {\n",
    "        'name': 'John',\n",
    "        'age': 30\n",
    "    },\n",
    "    'user2': {\n",
    "        'name': 'Jane',\n",
    "        'age': 25\n",
    "    }\n",
    "}\n",
    "\n",
    "# Accessing a nested value\n",
    "print(nested_dict['user2']['name'])  # Output: Jane\n"
   ]
  },
  {
   "cell_type": "code",
   "execution_count": 43,
   "id": "58f70b99",
   "metadata": {},
   "outputs": [
    {
     "name": "stdout",
     "output_type": "stream",
     "text": [
      "Array 1: [1 2 3]\n",
      "Array 2: [4 5 6]\n",
      "Element-wise Sum: [5 7 9]\n",
      "Dot Product: 32\n",
      "Cross Product: [-3  6 -3]\n",
      "Randomly selected element: 5\n"
     ]
    }
   ],
   "source": [
    "# Add more code cells to keep a record of the demos\n",
    "import numpy as np\n",
    "\n",
    "# Create two arrays\n",
    "array1 = np.array([1, 2, 3])\n",
    "array2 = np.array([4, 5, 6])\n",
    "\n",
    "# Element-wise addition\n",
    "sum_array = array1 + array2\n",
    "\n",
    "# Dot product of the two arrays\n",
    "dot_product = np.dot(array1, array2)\n",
    "cross_product = np.cross(array1, array2)\n",
    "\n",
    "print(\"Array 1:\", array1)\n",
    "print(\"Array 2:\", array2)\n",
    "print(\"Element-wise Sum:\", sum_array)\n",
    "print(\"Dot Product:\", dot_product)\n",
    "print(\"Cross Product:\", cross_product)\n",
    "\n",
    "import numpy as np\n",
    "\n",
    "# List of elements\n",
    "elements = np.array([1, 2, 3, 4, 5])\n",
    "\n",
    "# Randomly select one element from the list\n",
    "random_element = np.random.choice(elements)\n",
    "\n",
    "print(\"Randomly selected element:\", random_element)\n",
    "\n"
   ]
  },
  {
   "cell_type": "code",
   "execution_count": null,
   "id": "06e76321",
   "metadata": {},
   "outputs": [],
   "source": []
  },
  {
   "cell_type": "code",
   "execution_count": 41,
   "id": "f9ee9201",
   "metadata": {},
   "outputs": [
    {
     "name": "stdout",
     "output_type": "stream",
     "text": [
      "apple\n",
      "banana\n",
      "cherry\n",
      "1\n",
      "2\n",
      "3\n",
      "4\n",
      "Alice\n",
      "22\n",
      "Bob\n",
      "25\n",
      "Charlie\n",
      "23\n",
      "22\n",
      "25\n",
      "23\n",
      "1\n",
      "3\n",
      "6\n",
      "4\n",
      "7\n"
     ]
    }
   ],
   "source": [
    "fruits = ['apple', 'banana', 'cherry']\n",
    "for fruit in fruits:\n",
    "    print(fruit)\n",
    "\n",
    "for i in range(1,5):\n",
    "    print(i)\n",
    "\n",
    "\n",
    "# Dictionary\n",
    "student_ages = {'Alice': 22, 'Bob': 25, 'Charlie': 23}\n",
    "\n",
    "# Iterating over dictionary keys\n",
    "for name in student_ages:\n",
    "    print(name)\n",
    "    print(student_ages[name])\n",
    "\n",
    "# Iterating over dictionary values\n",
    "for age in student_ages.values():\n",
    "    print(age)\n",
    "\n",
    "# Creating a numpy array\n",
    "arr = np.array([1, 3, 6, 4, 7])\n",
    "\n",
    "# Looping through the numpy array\n",
    "for element in arr:\n",
    "    print(element)\n"
   ]
  },
  {
   "cell_type": "code",
   "execution_count": 48,
   "id": "1495fad0",
   "metadata": {},
   "outputs": [
    {
     "name": "stdout",
     "output_type": "stream",
     "text": [
      "You are a minor.\n",
      "You are a minor.\n",
      "You are a minor.\n",
      "You are an adult.\n",
      "You are an adult.\n",
      "You are an adult.\n",
      "It's cool outside.\n"
     ]
    }
   ],
   "source": [
    "   \n",
    "for age in range(15,21):\n",
    "    if age >= 18:\n",
    "        print(\"You are an adult.\")\n",
    "    else:\n",
    "        print(\"You are a minor.\")\n",
    "        \n",
    "temperature = 15\n",
    "\n",
    "if temperature > 30:\n",
    "    print(\"It's hot outside.\")\n",
    "elif temperature > 20:\n",
    "    print(\"It's warm outside.\")\n",
    "elif temperature > 10:\n",
    "    print(\"It's cool outside.\")\n",
    "else:\n",
    "    print(\"It's cold outside.\")\n"
   ]
  },
  {
   "cell_type": "code",
   "execution_count": 1,
   "id": "d9cfb02869afc350",
   "metadata": {
    "ExecuteTime": {
     "end_time": "2024-05-15T21:54:31.981069Z",
     "start_time": "2024-05-15T21:54:30.771611Z"
    }
   },
   "outputs": [
    {
     "data": {
      "text/plain": [
       "0.66777"
      ]
     },
     "execution_count": 1,
     "metadata": {},
     "output_type": "execute_result"
    }
   ],
   "source": [
    "# Monte Hall Simulation Code -- not the only way to code this, but it's what Prof. Schwartz came up with...\n",
    "\n",
    "import numpy as np\n",
    "all_door_options = (1,2,3)  # tuple\n",
    "my_door_choice = 1  # 1,2,3\n",
    "i_won = 0\n",
    "reps = 100000\n",
    "for i in range(reps):\n",
    "    secret_winning_door = np.random.choice(all_door_options)\n",
    "    all_door_options_list = list(all_door_options)\n",
    "    # take the secret_winning_door, so we don't show it as a \"goat\" losing door\n",
    "    all_door_options_list.remove(secret_winning_door)\n",
    "    try:\n",
    "        # if my_door_choice was secret_winning_door then it's already removed\n",
    "        all_door_options_list.remove(my_door_choice)\n",
    "    except:\n",
    "        pass\n",
    "    # show a \"goat\" losing door and remove it\n",
    "    goat_door_reveal = np.random.choice(all_door_options_list)\n",
    "    all_door_options_list.remove(goat_door_reveal)\n",
    "\n",
    "    # put the secret_winning_door back in if it wasn't our choice\n",
    "    # we previously removed it, so it would be shown as a  \"goat\" losing door\n",
    "    if secret_winning_door != my_door_choice:\n",
    "        all_door_options_list.append(secret_winning_door)\n",
    "    # if secret_winning_door was our choice then all that's left in the list is a \"goat\" losing door\n",
    "    # if secret_winning_door wasn't our choice then it's all that will be left in the list\n",
    "\n",
    "    # swap strategy\n",
    "    my_door_choice = all_door_options_list[0]\n",
    "\n",
    "    if my_door_choice == secret_winning_door:\n",
    "        i_won += 1\n",
    "\n",
    "i_won/reps"
   ]
  },
  {
   "cell_type": "markdown",
   "id": "b1985697e415697b",
   "metadata": {},
   "source": [
    "### 💬 🗣️ Communication [40 minutes]\n",
    "    \n",
    "#### 1. **[5 of the 40 minutes]** Quickly execute the \"rule of 5\" and take 5 minutes to break into 5 new groups of about 5 students and assign the following 5 questions to the 5 groups (and note that this instruction uses fives 5's 😉). Consider allowing students to preferentially select which group they join by calling for volunteers for each prompt, and feel free to use 5 minutes from the next (dicussion) sections doing so if you choose to (since this could be viewed as being a part of the \"discussion\").\n",
    "\n",
    "> *For each of the prompts, groups should consider the pros and cons of two options, the potential impact of a decision to persue one of the options, and how they take into account how uncertainty influences their thinking about the options.<br><br>*\n",
    ">\n",
    "> <details class=\"details-example\"><summary style=\"color:blue\"><u>Further Guidance</u></summary>\n",
    ">     \n",
    "> I asked a ChatBot to create a group activity for you that was related to decision-making under uncertainty using probability, and it produced the following questions. \n",
    "> \n",
    "> *This is a little bit like one of the ideas in the \"Afterward\" of HW01 asking a ChatBot to suggest and explain some other, perhaps less well-known \"unintuitive surprising statistics paradoxes\" (besides the \"World War 2 Plane\" and \"Monte Hall\" problems)*\n",
    ">\n",
    "> </details>\n",
    "\n",
    "1. **Stock Investment Strategy:** Students are investors trying to maximize their returns in the stock market. They must decide between two investment strategies: \"diversified portfolio\" or \"focused portfolio.\" Each strategy has different probabilities of success based on market conditions.<br><br>\n",
    "    \n",
    "    1. Diversified Portfolio: Spread investments across multiple industries.\n",
    "    2. Focused Portfolio: Concentrate investments in a few high-potential stocks.<br><br>\n",
    "        \n",
    "2. **Healthcare Treatment Decision:** Students are healthcare professionals deciding between two treatment options for a patient's condition. Each treatment has different success rates and potential side effects.<br><br>\n",
    "    \n",
    "    1. Treatment A: High success rate but moderate side effects.\n",
    "    2. Treatment B: Lower success rate but minimal side effects.<br><br>\n",
    "        \n",
    "3. **Sports Team Strategy:** Students are coaches of a sports team planning their game strategy. They must decide between two tactics: \"offensive strategy\" or \"defensive strategy.\" Each strategy has different probabilities of winning based on the opponent's strengths and weaknesses.<br><br>\n",
    "    \n",
    "    1. Offensive Strategy: Focus on scoring goals/points aggressively.\n",
    "    2. Defensive Strategy: Prioritize defense to prevent the opponent from scoring.<br><br>\n",
    "        \n",
    "4. **Career Path Decision:** Students are recent graduates deciding between two career paths: \"corporate job\" or \"entrepreneurship.\" Each path has different probabilities of success and factors to consider, such as job security, income potential, and work-life balance.<br><br>\n",
    "    \n",
    "    1. Corporate Job: Stable income but limited growth opportunities.\n",
    "    2. Entrepreneurship: Higher potential for success but greater risk and uncertainty.<br><br>\n",
    "        \n",
    "5. **Environmental Conservation Strategy:** Students are environmental activists advocating for conservation efforts in a wildlife reserve. They must decide between two conservation strategies: \"habitat preservation\" or \"species reintroduction.\" Each strategy has different probabilities of achieving long-term sustainability for the ecosystem.<br><br>\n",
    "    \n",
    "    1. Habitat Preservation: Protect existing habitats from human encroachment.\n",
    "    2. Species Reintroduction: Reintroduce endangered species to restore ecological balance.\n",
    "\n",
    "\n",
    "#### 2. **[15 to 20 of the 40 minutes]** Each group plans and prepares a brief (approximately 3 minute) summary (a) introducing their problem context and (b) outlining their decision and the rationale behind it. The group presentations should address\n",
    "\n",
    "1. the expected outcomes of their decision\n",
    "2. the risks involved\n",
    "3. and why they believe their choice is the best in light of their characterization of the degree uncertainty present in their context \n",
    "\n",
    "#### 3. **[15 to 20 of the 40 minutes]** Each group gives their (approximately 3 minute) planned presentation. If time permits, engaging in some (students or TA) Q&A seeking clarification or challenging group decisions would be ideal.\n",
    "\n",
    "Groups who manage to plan a presentation where multiple group members actively part of the presentation should be awarded \"gold stars\", figuratively, of course, since actualy gold, or stars, of gold star stickers are unfortunately momentarily in short supply"
   ]
  }
 ],
 "metadata": {
  "kernelspec": {
   "display_name": "Python 3 (ipykernel)",
   "language": "python",
   "name": "python3"
  },
  "language_info": {
   "codemirror_mode": {
    "name": "ipython",
    "version": 3
   },
   "file_extension": ".py",
   "mimetype": "text/x-python",
   "name": "python",
   "nbconvert_exporter": "python",
   "pygments_lexer": "ipython3",
   "version": "3.11.6"
  }
 },
 "nbformat": 4,
 "nbformat_minor": 5
}
